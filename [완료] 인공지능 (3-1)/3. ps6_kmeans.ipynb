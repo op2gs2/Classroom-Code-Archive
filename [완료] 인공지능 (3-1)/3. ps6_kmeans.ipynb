{
 "cells": [
  {
   "cell_type": "markdown",
   "metadata": {},
   "source": [
    "이름: 김동영\n",
    "    \n",
    "학번: 20175111\n",
    "    \n",
    "    "
   ]
  },
  {
   "cell_type": "code",
   "execution_count": 1,
   "metadata": {},
   "outputs": [],
   "source": [
    "import numpy as np"
   ]
  },
  {
   "cell_type": "markdown",
   "metadata": {},
   "source": [
    "# Part 1: Clustering\n"
   ]
  },
  {
   "cell_type": "code",
   "execution_count": 2,
   "metadata": {},
   "outputs": [
    {
     "data": {
      "text/plain": [
       "<matplotlib.collections.PathCollection at 0x1da59519400>"
      ]
     },
     "execution_count": 2,
     "metadata": {},
     "output_type": "execute_result"
    },
    {
     "data": {
      "image/png": "[encoded data removed]",
      "text/plain": [
       "<Figure size 432x288 with 1 Axes>"
      ]
     },
     "metadata": {
      "needs_background": "light"
     },
     "output_type": "display_data"
    }
   ],
   "source": [
    "from sklearn.datasets import make_blobs\n",
    "import matplotlib.pyplot as plt\n",
    "\n",
    "np.random.seed(13) #13\n",
    "batch_size = 45\n",
    "centers = [[-2.5, -2], [2, 2]]\n",
    "n_clusters = len(centers)\n",
    "X, labels_true = make_blobs(n_samples=30, centers=centers, cluster_std=1.5)\n",
    "plt.scatter(X[:,0], X[:,1])"
   ]
  },
  {
   "cell_type": "markdown",
   "metadata": {},
   "source": [
    "## 과제를 위한 유용한 코딩 기법 소개"
   ]
  },
  {
   "cell_type": "code",
   "execution_count": 55,
   "metadata": {},
   "outputs": [
    {
     "data": {
      "text/plain": [
       "array([[ 4.02545899,  5.02283124],\n",
       "       [-3.56858599, -0.86935043],\n",
       "       [ 1.42331347,  1.20450889],\n",
       "       [-1.07075408, -3.63077239],\n",
       "       [ 1.51681451,  1.44482588],\n",
       "       [-3.68348354, -3.89240892],\n",
       "       [ 2.53929844,  1.23205236],\n",
       "       [-2.717817  , -1.64321324],\n",
       "       [ 1.52410104,  3.70749957],\n",
       "       [-0.48234744, -1.20149317],\n",
       "       [ 0.85394905,  2.15190468],\n",
       "       [-3.97624117, -0.21394209],\n",
       "       [-1.65572982, -2.36498938],\n",
       "       [-1.59056701, -2.04015747],\n",
       "       [ 2.67973792,  1.50098634],\n",
       "       [-0.40114237, -4.42266194],\n",
       "       [-1.12938894, -1.52397362],\n",
       "       [ 2.59586199, -0.26926767],\n",
       "       [ 1.91370142,  2.84698143],\n",
       "       [-2.56675462, -1.32228149],\n",
       "       [-2.30904508,  1.22557445],\n",
       "       [ 4.77441885,  1.87752267],\n",
       "       [-4.95864012, -2.41720177],\n",
       "       [ 2.32617749,  2.77149328],\n",
       "       [ 1.65136119,  3.06646219],\n",
       "       [ 0.52958852,  1.99641646],\n",
       "       [-0.28197139, -3.5680657 ],\n",
       "       [-0.47471815, -0.70818294],\n",
       "       [ 1.06853045,  1.31937143],\n",
       "       [ 2.73630775,  4.83911333]])"
      ]
     },
     "execution_count": 55,
     "metadata": {},
     "output_type": "execute_result"
    }
   ],
   "source": [
    "X[::1,:]"
   ]
  },
  {
   "cell_type": "code",
   "execution_count": 3,
   "metadata": {},
   "outputs": [
    {
     "data": {
      "text/plain": [
       "array([[-0.48188622,  1.32857008, -0.72342323],\n",
       "       [-1.88585702,  0.35592168, -0.20608069],\n",
       "       [-0.6596602 , -1.02169239,  0.20832549],\n",
       "       [-1.44437362,  0.77549186, -0.27568055],\n",
       "       [-0.56864481,  0.15605188, -1.31044578]])"
      ]
     },
     "execution_count": 3,
     "metadata": {},
     "output_type": "execute_result"
    }
   ],
   "source": [
    "x_test = np.random.randn(5,3)\n",
    "x_test"
   ]
  },
  {
   "cell_type": "code",
   "execution_count": 4,
   "metadata": {},
   "outputs": [],
   "source": [
    "ci = np.array([0, 1, 0, 1, 1])"
   ]
  },
  {
   "cell_type": "code",
   "execution_count": 5,
   "metadata": {},
   "outputs": [],
   "source": [
    "centoid_test = np.random.randn(2,3)"
   ]
  },
  {
   "cell_type": "code",
   "execution_count": 6,
   "metadata": {},
   "outputs": [
    {
     "data": {
      "text/plain": [
       "array([[-0.14344887,  1.18408462, -0.33017653],\n",
       "       [ 0.19330962, -1.53703839, -0.03251265]])"
      ]
     },
     "execution_count": 6,
     "metadata": {},
     "output_type": "execute_result"
    }
   ],
   "source": [
    "centoid_test"
   ]
  },
  {
   "cell_type": "code",
   "execution_count": 7,
   "metadata": {},
   "outputs": [
    {
     "data": {
      "text/plain": [
       "array([[-0.48188622,  1.32857008, -0.72342323],\n",
       "       [-1.88585702,  0.35592168, -0.20608069],\n",
       "       [-0.6596602 , -1.02169239,  0.20832549],\n",
       "       [-1.44437362,  0.77549186, -0.27568055],\n",
       "       [-0.56864481,  0.15605188, -1.31044578]])"
      ]
     },
     "execution_count": 7,
     "metadata": {},
     "output_type": "execute_result"
    }
   ],
   "source": [
    "x_test"
   ]
  },
  {
   "cell_type": "code",
   "execution_count": 8,
   "metadata": {},
   "outputs": [
    {
     "data": {
      "text/plain": [
       "array([0, 1, 0, 1, 1])"
      ]
     },
     "execution_count": 8,
     "metadata": {},
     "output_type": "execute_result"
    }
   ],
   "source": [
    "ci"
   ]
  },
  {
   "cell_type": "code",
   "execution_count": 9,
   "metadata": {},
   "outputs": [
    {
     "data": {
      "text/plain": [
       "array([[-0.14344887,  1.18408462, -0.33017653],\n",
       "       [ 0.19330962, -1.53703839, -0.03251265]])"
      ]
     },
     "execution_count": 9,
     "metadata": {},
     "output_type": "execute_result"
    }
   ],
   "source": [
    "centoid_test"
   ]
  },
  {
   "cell_type": "markdown",
   "metadata": {},
   "source": [
    "* `x_test` 중에서 `ci`가 `1`인 sample만 골라내기"
   ]
  },
  {
   "cell_type": "code",
   "execution_count": 10,
   "metadata": {},
   "outputs": [
    {
     "data": {
      "text/plain": [
       "array([[-0.48188622,  1.32857008, -0.72342323],\n",
       "       [-0.6596602 , -1.02169239,  0.20832549]])"
      ]
     },
     "execution_count": 10,
     "metadata": {},
     "output_type": "execute_result"
    }
   ],
   "source": [
    "x_test[ci==0, :]"
   ]
  },
  {
   "cell_type": "code",
   "execution_count": 11,
   "metadata": {},
   "outputs": [
    {
     "data": {
      "text/plain": [
       "array([[-1.88585702,  0.35592168, -0.20608069],\n",
       "       [-1.44437362,  0.77549186, -0.27568055],\n",
       "       [-0.56864481,  0.15605188, -1.31044578]])"
      ]
     },
     "execution_count": 11,
     "metadata": {},
     "output_type": "execute_result"
    }
   ],
   "source": [
    "x_test[ci==1, :]"
   ]
  },
  {
   "cell_type": "code",
   "execution_count": 12,
   "metadata": {},
   "outputs": [
    {
     "data": {
      "text/plain": [
       "array([-0.57867201, -0.3148541 , -0.57434623])"
      ]
     },
     "execution_count": 12,
     "metadata": {},
     "output_type": "execute_result"
    }
   ],
   "source": [
    "np.mean(x_test[ci==1, :], axis=1)"
   ]
  },
  {
   "cell_type": "markdown",
   "metadata": {},
   "source": [
    "* x_test의 data 별로 centroid 값으로 대체한 행렬 만들기"
   ]
  },
  {
   "cell_type": "code",
   "execution_count": 13,
   "metadata": {},
   "outputs": [],
   "source": [
    "x_new = centoid_test[ci,:]"
   ]
  },
  {
   "cell_type": "code",
   "execution_count": 14,
   "metadata": {},
   "outputs": [
    {
     "data": {
      "text/plain": [
       "array([[-0.14344887,  1.18408462, -0.33017653],\n",
       "       [ 0.19330962, -1.53703839, -0.03251265],\n",
       "       [-0.14344887,  1.18408462, -0.33017653],\n",
       "       [ 0.19330962, -1.53703839, -0.03251265],\n",
       "       [ 0.19330962, -1.53703839, -0.03251265]])"
      ]
     },
     "execution_count": 14,
     "metadata": {},
     "output_type": "execute_result"
    }
   ],
   "source": [
    "x_new"
   ]
  },
  {
   "cell_type": "markdown",
   "metadata": {},
   "source": [
    "* `x_test` sample 별로 최소 거리 centroid index 찾기"
   ]
  },
  {
   "cell_type": "code",
   "execution_count": 15,
   "metadata": {},
   "outputs": [],
   "source": [
    "dist2 = np.zeros((x_test.shape[0], centoid_test.shape[0]))\n",
    "for i, c in enumerate(centoid_test):\n",
    "    dist2[:, i] = np.mean((x_test - c)**2, axis = 1 )"
   ]
  },
  {
   "cell_type": "code",
   "execution_count": 16,
   "metadata": {},
   "outputs": [
    {
     "data": {
      "text/plain": [
       "array([[0.09668629, 3.04831959],\n",
       "       [1.2457466 , 2.64545254],\n",
       "       [1.8073036 , 0.35038068],\n",
       "       [0.62077436, 2.69631107],\n",
       "       [0.7328569 , 1.69341411]])"
      ]
     },
     "execution_count": 16,
     "metadata": {},
     "output_type": "execute_result"
    }
   ],
   "source": [
    "dist2"
   ]
  },
  {
   "cell_type": "markdown",
   "metadata": {},
   "source": [
    "* 최소거리 cluster index 찾기"
   ]
  },
  {
   "cell_type": "code",
   "execution_count": 17,
   "metadata": {},
   "outputs": [
    {
     "data": {
      "text/plain": [
       "array([0, 0, 1, 0, 0], dtype=int64)"
      ]
     },
     "execution_count": 17,
     "metadata": {},
     "output_type": "execute_result"
    }
   ],
   "source": [
    "np.argmin(dist2, axis=1)"
   ]
  },
  {
   "cell_type": "markdown",
   "metadata": {},
   "source": [
    "# Problem 1\n",
    "- `init_centroid(X, K)` 함수를 완성하세요\n",
    "    - `input`: `X`, `K`\n",
    "    - `return`: `centroids` 행렬을 return하며, `K`개의 data를 random하게 (K, n) 행렬\n",
    "    - 즉, `centroids` 행렬은 각 row가 $\\mu_k$ 가 된다"
   ]
  },
  {
   "cell_type": "code",
   "execution_count": 52,
   "metadata": {},
   "outputs": [
    {
     "data": {
      "text/plain": [
       "[-0.27885684176411024, 0.3649524656683964]"
      ]
     },
     "execution_count": 52,
     "metadata": {},
     "output_type": "execute_result"
    }
   ],
   "source": [
    "#1. 행렬 쪼개기\n",
    "X[i%2==0,:]\n",
    "#2. mean 구하기\n",
    "#3. centroid 행렬에 넣기"
   ]
  },
  {
   "cell_type": "code",
   "execution_count": 18,
   "metadata": {},
   "outputs": [
    {
     "ename": "SyntaxError",
     "evalue": "invalid syntax (<ipython-input-18-0280e3e5def7>, line 4)",
     "output_type": "error",
     "traceback": [
      "\u001b[1;36m  File \u001b[1;32m\"<ipython-input-18-0280e3e5def7>\"\u001b[1;36m, line \u001b[1;32m4\u001b[0m\n\u001b[1;33m    return  / X[:,0].shape\u001b[0m\n\u001b[1;37m            ^\u001b[0m\n\u001b[1;31mSyntaxError\u001b[0m\u001b[1;31m:\u001b[0m invalid syntax\n"
     ]
    }
   ],
   "source": [
    "# initialize centroids\n",
    "\n",
    "def init_centroid(X, K):\n",
    "    num = X[0,:] / K\n",
    "    for i in range(0,K):\n",
    "        \n",
    "    centroid = np.mean(,axis=0)\n",
    "    return centroid"
   ]
  },
  {
   "cell_type": "markdown",
   "metadata": {},
   "source": [
    "## Problem 2\n",
    "\n",
    "- `findClosestCentroids(X, centroids)`\n",
    "    - `input`: `X`, `centroids`\n",
    "    - return: Data별로 centroid index를 저장한 vector, 즉 $c^{(i)}$\n",
    "    - return 하는 벡터의 구조는 (m,) shape로 return\n",
    "   "
   ]
  },
  {
   "cell_type": "code",
   "execution_count": null,
   "metadata": {},
   "outputs": [],
   "source": [
    "def findClosestCentroids(X, centroids):\n",
    "    return\n"
   ]
  },
  {
   "cell_type": "markdown",
   "metadata": {},
   "source": [
    "## Problem 3\n",
    "\n",
    "- `computeCentroids(X, ci, K)`\n",
    "    - `input`: `X`, `ci`, `K`,  여기서 `ci`는 $c^{(i)}$를 저장하고 있는 벡터\n",
    "    - return: 새로 업데이트된 centroid 값 (각 cluster별 평균값)\n",
    "    \\begin{align}\n",
    "    \\mu_k := \\frac{1}{|\\mathcal{C}_k|}\\sum_{i\\in\\mathcal{C}_k} x^{(i)}\n",
    "    \\end{align}"
   ]
  },
  {
   "cell_type": "code",
   "execution_count": null,
   "metadata": {},
   "outputs": [],
   "source": [
    "def computeCentroids(X, ci, K):\n",
    "    return "
   ]
  },
  {
   "cell_type": "markdown",
   "metadata": {},
   "source": [
    "## Problem 4\n",
    "\n",
    "- `cost(X, ci, centroids)`\n",
    "    - `input`: `X`, `ci`, `K`, `centroids`\n",
    "    - return: cost\n",
    "    \\begin{align}\n",
    "    J(c,\\mu) = \\frac{1}{m}\\sum_{i=1}^m \\|x^{(i)}-\\mu_{c^{(i)}}\\|^2\n",
    "    \\end{align}"
   ]
  },
  {
   "cell_type": "code",
   "execution_count": null,
   "metadata": {},
   "outputs": [],
   "source": [
    "def cost(X, ci, centroids):\n",
    "    return / X[:,0].shape"
   ]
  },
  {
   "cell_type": "markdown",
   "metadata": {},
   "source": [
    "## Problem 5\n",
    "학습을 10번 진행하여 최적 centroid, mapping, cost를 구하세요\n",
    "\n",
    "- 학습한 centroid는 `centroids`라는 변수에 저장하세요\n",
    "- data 별 cluster 인덱스는 `ci`라는 변수에 저장하세요\n",
    "- Cost는 `loss`라는 변수에 epoch별로 저장하세요"
   ]
  },
  {
   "cell_type": "code",
   "execution_count": null,
   "metadata": {},
   "outputs": [],
   "source": [
    "epoch = 10\n",
    "K=2\n",
    "\n",
    "centroids = init_centroid(X, K)\n",
    "loss = np.zeros(epoch)\n",
    "\n",
    "for e in np.arange(epoch):\n",
    "    centroids = \n",
    "    ci = \n",
    "    loss = \n",
    "    \n",
    "    \n",
    "    "
   ]
  },
  {
   "cell_type": "code",
   "execution_count": null,
   "metadata": {},
   "outputs": [],
   "source": [
    "centroids"
   ]
  },
  {
   "cell_type": "code",
   "execution_count": null,
   "metadata": {},
   "outputs": [],
   "source": [
    "plt.plot(loss)"
   ]
  },
  {
   "cell_type": "code",
   "execution_count": null,
   "metadata": {},
   "outputs": [],
   "source": [
    "plt.rcParams[\"figure.figsize\"] = (5,5)\n",
    "colormap = np.array(['tab:blue', 'tab:red'])\n",
    "plt.scatter(X[:,0], X[:,1], c = colormap[ci.astype(int)])\n",
    "plt.scatter(centroids[:,0], centroids[:,1], c = colormap, marker='X', s = 100)"
   ]
  },
  {
   "cell_type": "markdown",
   "metadata": {},
   "source": [
    "# Part 2: Image compression"
   ]
  },
  {
   "cell_type": "code",
   "execution_count": null,
   "metadata": {},
   "outputs": [],
   "source": [
    "from PIL import Image\n",
    "\n",
    "img = Image.open( 'bird_small.png' )\n",
    "img.load()\n",
    "data = np.asarray( img)"
   ]
  },
  {
   "cell_type": "code",
   "execution_count": null,
   "metadata": {},
   "outputs": [],
   "source": [
    "data.shape"
   ]
  },
  {
   "cell_type": "code",
   "execution_count": null,
   "metadata": {},
   "outputs": [],
   "source": [
    "plt.imshow(data)"
   ]
  },
  {
   "cell_type": "code",
   "execution_count": null,
   "metadata": {},
   "outputs": [],
   "source": [
    "X_image = data.reshape(-1,3)"
   ]
  },
  {
   "cell_type": "code",
   "execution_count": null,
   "metadata": {},
   "outputs": [],
   "source": [
    "X_image.shape"
   ]
  },
  {
   "cell_type": "code",
   "execution_count": null,
   "metadata": {},
   "outputs": [],
   "source": [
    "X_image = X_image/255"
   ]
  },
  {
   "cell_type": "code",
   "execution_count": null,
   "metadata": {},
   "outputs": [],
   "source": [
    "X_image"
   ]
  },
  {
   "cell_type": "markdown",
   "metadata": {},
   "source": [
    "# Problem 6\n",
    "\n",
    "- K = 15\n",
    "- epoch = 50\n",
    "- Centroid (`centroids`)와 mapping (`ci`)를 찾으세요\n",
    "- Distortion (cost) 값을 `loss`라는 변수에 epoch 별로 저장하세요"
   ]
  },
  {
   "cell_type": "code",
   "execution_count": null,
   "metadata": {},
   "outputs": [],
   "source": [
    "epoch = 50\n",
    "K=100\n",
    "\n",
    "centroids = init_centroid(X_image, K)\n",
    "loss = np.zeros(epoch)\n",
    "\n",
    "for e in np.arange(epoch):\n",
    "\n",
    "    \n"
   ]
  },
  {
   "cell_type": "code",
   "execution_count": null,
   "metadata": {},
   "outputs": [],
   "source": [
    "plt.plot(loss)"
   ]
  },
  {
   "cell_type": "code",
   "execution_count": null,
   "metadata": {},
   "outputs": [],
   "source": [
    "ci = findClosestCentroids(X_image, centroids)\n"
   ]
  },
  {
   "cell_type": "markdown",
   "metadata": {},
   "source": [
    "## Problem 7\n",
    "\n",
    "`X_compress`를 만드세요\n",
    "\n",
    "각 (3-채널) pixel을 가장 가까운 centroid 값으로 대체하는 `X_compress`를 저장하세요"
   ]
  },
  {
   "cell_type": "code",
   "execution_count": null,
   "metadata": {},
   "outputs": [],
   "source": [
    "# 답 작성\n",
    "# X_compress = "
   ]
  },
  {
   "cell_type": "code",
   "execution_count": null,
   "metadata": {},
   "outputs": [],
   "source": [
    "X_compress = X_compress.reshape(128,128,3)\n",
    " "
   ]
  },
  {
   "cell_type": "code",
   "execution_count": null,
   "metadata": {},
   "outputs": [],
   "source": [
    "import matplotlib\n",
    "plt.imshow(X_compress)"
   ]
  },
  {
   "cell_type": "code",
   "execution_count": null,
   "metadata": {},
   "outputs": [],
   "source": [
    "f, axarr = plt.subplots(1,2)\n",
    "axarr[0].imshow(data)\n",
    "axarr[1].imshow(X_compress)"
   ]
  }
 ],
 "metadata": {
  "kernelspec": {
   "display_name": "Python 3",
   "language": "python",
   "name": "python3"
  },
  "language_info": {
   "codemirror_mode": {
    "name": "ipython",
    "version": 3
   },
   "file_extension": ".py",
   "mimetype": "text/x-python",
   "name": "python",
   "nbconvert_exporter": "python",
   "pygments_lexer": "ipython3",
   "version": "3.8.5"
  }
 },
 "nbformat": 4,
 "nbformat_minor": 4
}
