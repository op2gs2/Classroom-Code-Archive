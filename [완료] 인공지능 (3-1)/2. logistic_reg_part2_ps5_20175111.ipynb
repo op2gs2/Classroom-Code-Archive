{
 "cells": [
  {
   "cell_type": "markdown",
   "metadata": {},
   "source": [
    "학번: 20175111\n",
    "\n",
    "이름: 김동영\n",
    "\n"
   ]
  },
  {
   "cell_type": "code",
   "execution_count": 1,
   "metadata": {},
   "outputs": [],
   "source": [
    "import numpy as np\n",
    "import pandas as pd\n",
    "import matplotlib.pyplot as plt"
   ]
  },
  {
   "cell_type": "markdown",
   "metadata": {},
   "source": [
    "# Part 1: Test exam admission\n",
    "\n",
    "이번 과제에서는 본인은 대학 입학처 직원으로 학생 별 2과목 성적 기반으로 합격 (`label 1`)과 불합격 (`label 0`)를 결정하는 예측 시스템을 개발하려합니다. 다음은 data 가져오는 과정입니다.\n",
    "\n",
    "- data 형태: CSV file\n",
    "- 1단계: CSV file을 pandas dataframe으로 가져오기\n",
    "- Part 1 과정은 지난 실습의 복습 부분입니다"
   ]
  },
  {
   "cell_type": "code",
   "execution_count": 2,
   "metadata": {},
   "outputs": [
    {
     "data": {
      "text/html": [
       "<div>\n",
       "<style scoped>\n",
       "    .dataframe tbody tr th:only-of-type {\n",
       "        vertical-align: middle;\n",
       "    }\n",
       "\n",
       "    .dataframe tbody tr th {\n",
       "        vertical-align: top;\n",
       "    }\n",
       "\n",
       "    .dataframe thead th {\n",
       "        text-align: right;\n",
       "    }\n",
       "</style>\n",
       "<table border=\"1\" class=\"dataframe\">\n",
       "  <thead>\n",
       "    <tr style=\"text-align: right;\">\n",
       "      <th></th>\n",
       "      <th>exam1</th>\n",
       "      <th>exam2</th>\n",
       "      <th>admission</th>\n",
       "    </tr>\n",
       "  </thead>\n",
       "  <tbody>\n",
       "    <tr>\n",
       "      <th>0</th>\n",
       "      <td>34.623660</td>\n",
       "      <td>78.024693</td>\n",
       "      <td>0.0</td>\n",
       "    </tr>\n",
       "    <tr>\n",
       "      <th>1</th>\n",
       "      <td>30.286711</td>\n",
       "      <td>43.894998</td>\n",
       "      <td>0.0</td>\n",
       "    </tr>\n",
       "    <tr>\n",
       "      <th>2</th>\n",
       "      <td>35.847409</td>\n",
       "      <td>72.902198</td>\n",
       "      <td>0.0</td>\n",
       "    </tr>\n",
       "    <tr>\n",
       "      <th>3</th>\n",
       "      <td>60.182599</td>\n",
       "      <td>86.308552</td>\n",
       "      <td>1.0</td>\n",
       "    </tr>\n",
       "    <tr>\n",
       "      <th>4</th>\n",
       "      <td>79.032736</td>\n",
       "      <td>75.344376</td>\n",
       "      <td>1.0</td>\n",
       "    </tr>\n",
       "    <tr>\n",
       "      <th>...</th>\n",
       "      <td>...</td>\n",
       "      <td>...</td>\n",
       "      <td>...</td>\n",
       "    </tr>\n",
       "    <tr>\n",
       "      <th>95</th>\n",
       "      <td>83.489163</td>\n",
       "      <td>48.380286</td>\n",
       "      <td>1.0</td>\n",
       "    </tr>\n",
       "    <tr>\n",
       "      <th>96</th>\n",
       "      <td>42.261701</td>\n",
       "      <td>87.103851</td>\n",
       "      <td>1.0</td>\n",
       "    </tr>\n",
       "    <tr>\n",
       "      <th>97</th>\n",
       "      <td>99.315009</td>\n",
       "      <td>68.775409</td>\n",
       "      <td>1.0</td>\n",
       "    </tr>\n",
       "    <tr>\n",
       "      <th>98</th>\n",
       "      <td>55.340018</td>\n",
       "      <td>64.931938</td>\n",
       "      <td>1.0</td>\n",
       "    </tr>\n",
       "    <tr>\n",
       "      <th>99</th>\n",
       "      <td>74.775893</td>\n",
       "      <td>89.529813</td>\n",
       "      <td>1.0</td>\n",
       "    </tr>\n",
       "  </tbody>\n",
       "</table>\n",
       "<p>100 rows × 3 columns</p>\n",
       "</div>"
      ],
      "text/plain": [
       "        exam1      exam2  admission\n",
       "0   34.623660  78.024693        0.0\n",
       "1   30.286711  43.894998        0.0\n",
       "2   35.847409  72.902198        0.0\n",
       "3   60.182599  86.308552        1.0\n",
       "4   79.032736  75.344376        1.0\n",
       "..        ...        ...        ...\n",
       "95  83.489163  48.380286        1.0\n",
       "96  42.261701  87.103851        1.0\n",
       "97  99.315009  68.775409        1.0\n",
       "98  55.340018  64.931938        1.0\n",
       "99  74.775893  89.529813        1.0\n",
       "\n",
       "[100 rows x 3 columns]"
      ]
     },
     "execution_count": 2,
     "metadata": {},
     "output_type": "execute_result"
    }
   ],
   "source": [
    "df = pd.read_csv('exam_dataset.csv')\n",
    "df"
   ]
  },
  {
   "cell_type": "markdown",
   "metadata": {},
   "source": [
    "Dataframe에서 numpy array로 column 별 변환"
   ]
  },
  {
   "cell_type": "code",
   "execution_count": 3,
   "metadata": {},
   "outputs": [],
   "source": [
    "Xexam = df[['exam1', 'exam2']].to_numpy()\n",
    "yexam = df['admission'].to_numpy().reshape(-1,1)"
   ]
  },
  {
   "cell_type": "markdown",
   "metadata": {},
   "source": [
    "Dataset plot"
   ]
  },
  {
   "cell_type": "code",
   "execution_count": 4,
   "metadata": {},
   "outputs": [
    {
     "data": {
      "text/plain": [
       "Text(0, 0.5, 'Exam 2')"
      ]
     },
     "execution_count": 4,
     "metadata": {},
     "output_type": "execute_result"
    },
    {
     "data": {
      "image/png": "[encoded data removed]",
      "text/plain": [
       "<Figure size 360x360 with 1 Axes>"
      ]
     },
     "metadata": {
      "needs_background": "light"
     },
     "output_type": "display_data"
    }
   ],
   "source": [
    "plt.rcParams[\"figure.figsize\"] = (5,5)\n",
    "colormap = np.array(['tab:blue', 'tab:red'])\n",
    "plt.scatter(Xexam[:,0], Xexam[:,1], c=colormap[yexam.astype(int)].reshape(-1))\n",
    "plt.xlabel('Exam 1')\n",
    "plt.ylabel('Exam 2')"
   ]
  },
  {
   "cell_type": "markdown",
   "metadata": {},
   "source": [
    "## 1-1. Logistic Regression\n",
    "\n",
    "모델은 logistic regression을 사용하도록 하겠습니다.\n"
   ]
  },
  {
   "cell_type": "markdown",
   "metadata": {},
   "source": [
    "### Problem 1 \n",
    "\n",
    "- `model` 함수 구현\n",
    "- `cost` 함수 구현 ()\n",
    "- `decision` 함수 구현 \n",
    "- 위 함수는 이전 실습과 동일한 방법으로 (조건)으로 구현할 것"
   ]
  },
  {
   "cell_type": "code",
   "execution_count": 5,
   "metadata": {},
   "outputs": [],
   "source": [
    "def log(x):\n",
    "    x = np.clip(x, 1e-20, 1e20)\n",
    "    return np.log(x)"
   ]
  },
  {
   "cell_type": "code",
   "execution_count": 6,
   "metadata": {},
   "outputs": [],
   "source": [
    "def sigmoid(x):\n",
    "    return 1 / (1+np.exp(-x))"
   ]
  },
  {
   "cell_type": "code",
   "execution_count": 7,
   "metadata": {},
   "outputs": [],
   "source": [
    "def model(X, theta):\n",
    "    return sigmoid(np.matmul(X,theta))"
   ]
  },
  {
   "cell_type": "code",
   "execution_count": 8,
   "metadata": {},
   "outputs": [],
   "source": [
    "def cost(H, y):\n",
    "    return -np.matmul(y.T, log(H))-np.matmul((1-y).T,log(1-H)) / H.shape[0]"
   ]
  },
  {
   "cell_type": "code",
   "execution_count": 9,
   "metadata": {},
   "outputs": [],
   "source": [
    "def decision(H, p, y):\n",
    "    pred = np.zeros_like(y)\n",
    "    pred[H>=p] = 1\n",
    "    accuracy = np.sum(pred==y) / y.shape[0]\n",
    "    return pred, accuracy"
   ]
  },
  {
   "cell_type": "markdown",
   "metadata": {},
   "source": [
    "### Problem 2\n",
    "- `grad` 함수 구현\n",
    "- L2 regularization 구현할 것!\n",
    "\n",
    "- `input` (X, H, y, theta, rp)\n",
    "- `output` Regularization 적용한 gradient\n",
    "\n",
    "\\begin{align*}\n",
    "\\nabla_\\theta J(\\theta) = \\frac{1}{m}X^T(H-y) + \\frac{2\\lambda}{m}\\theta\n",
    "\\end{align*}"
   ]
  },
  {
   "cell_type": "code",
   "execution_count": 10,
   "metadata": {},
   "outputs": [],
   "source": [
    "def grad(X, H, y, theta, rp):\n",
    "    return np.matmul(X.T,(H-y)) / X.shape[0] + 2.0 * theta * rp / X.shape[0]"
   ]
  },
  {
   "cell_type": "markdown",
   "metadata": {},
   "source": [
    "### Problem 3\n",
    "\n",
    "- 학습을 진행하여 최적 `theta`를 찾는다\n",
    "- `epoch`별 `loss`와 `accuracy` 계산하여 plot"
   ]
  },
  {
   "cell_type": "code",
   "execution_count": 11,
   "metadata": {},
   "outputs": [],
   "source": [
    "Xexam_tilde = np.hstack([np.ones((Xexam.shape[0], 1)), Xexam])"
   ]
  },
  {
   "cell_type": "code",
   "execution_count": 12,
   "metadata": {},
   "outputs": [
    {
     "data": {
      "text/plain": [
       "(100, 3)"
      ]
     },
     "execution_count": 12,
     "metadata": {},
     "output_type": "execute_result"
    }
   ],
   "source": [
    "Xexam_tilde.shape"
   ]
  },
  {
   "cell_type": "code",
   "execution_count": 13,
   "metadata": {},
   "outputs": [
    {
     "name": "stdout",
     "output_type": "stream",
     "text": [
      "--- starting epoch 0 ----\n",
      "accuracy =  0.6\n",
      "loss =  18.420680743952367\n",
      "--- starting epoch 10000 ----\n",
      "accuracy =  0.6\n",
      "loss =  23.260514993763024\n",
      "--- starting epoch 20000 ----\n",
      "accuracy =  0.6\n",
      "loss =  22.103622221433533\n",
      "--- starting epoch 30000 ----\n",
      "accuracy =  0.64\n",
      "loss =  21.082387631674614\n",
      "--- starting epoch 40000 ----\n",
      "accuracy =  0.66\n",
      "loss =  20.18514183872311\n"
     ]
    }
   ],
   "source": [
    "num_epoch = 50000 # epoch 총 수\n",
    "lr = 0.001 # learning rate\n",
    "rp = 0.0\n",
    "# epoch 별 loss 저장하기 위한 array\n",
    "loss = np.zeros(num_epoch)\n",
    "accuracy = np.zeros(num_epoch)\n",
    "\n",
    "# 학습\n",
    "theta = np.random.randn(Xexam.shape[1]+1, 1)\n",
    "\n",
    "skip = 10000\n",
    "for i in range(num_epoch):\n",
    "    H = model(Xexam_tilde,theta)\n",
    "    loss[i] = cost(H,yexam)\n",
    "    pred,accuracy[i] = decision(H,0.5,yexam)\n",
    "    gradient = grad(Xexam_tilde, H, yexam,theta,rp)\n",
    "    theta = theta - lr * gradient\n",
    "    \n",
    "    if i%skip == 0:\n",
    "        print(f'--- starting epoch {i} ----')\n",
    "        print('accuracy = ', accuracy[i])\n",
    "        print('loss = ', loss[i])\n",
    "    "
   ]
  },
  {
   "cell_type": "code",
   "execution_count": 14,
   "metadata": {},
   "outputs": [
    {
     "data": {
      "text/plain": [
       "[<matplotlib.lines.Line2D at 0x274333ddd30>]"
      ]
     },
     "execution_count": 14,
     "metadata": {},
     "output_type": "execute_result"
    },
    {
     "data": {
      "image/png": "[encoded data removed]",
      "text/plain": [
       "<Figure size 360x360 with 1 Axes>"
      ]
     },
     "metadata": {
      "needs_background": "light"
     },
     "output_type": "display_data"
    }
   ],
   "source": [
    "plt.plot(loss)"
   ]
  },
  {
   "cell_type": "code",
   "execution_count": 15,
   "metadata": {},
   "outputs": [
    {
     "data": {
      "text/plain": [
       "[<matplotlib.lines.Line2D at 0x274344db250>]"
      ]
     },
     "execution_count": 15,
     "metadata": {},
     "output_type": "execute_result"
    },
    {
     "data": {
      "image/png": "[encoded data removed]",
      "text/plain": [
       "<Figure size 360x360 with 1 Axes>"
      ]
     },
     "metadata": {
      "needs_background": "light"
     },
     "output_type": "display_data"
    }
   ],
   "source": [
    "plt.plot(accuracy)"
   ]
  },
  {
   "cell_type": "code",
   "execution_count": 16,
   "metadata": {},
   "outputs": [
    {
     "data": {
      "image/png": "[encoded data removed]",
      "text/plain": [
       "<Figure size 720x576 with 1 Axes>"
      ]
     },
     "metadata": {
      "needs_background": "light"
     },
     "output_type": "display_data"
    }
   ],
   "source": [
    "import helper\n",
    "helper.plot_exam(Xexam_tilde, yexam, theta)"
   ]
  },
  {
   "cell_type": "markdown",
   "metadata": {},
   "source": [
    "# Normalizing the data"
   ]
  },
  {
   "cell_type": "markdown",
   "metadata": {},
   "source": [
    "### Problem 4\n",
    "\n",
    "Training set의 평균 값 \n",
    "\n",
    "\\begin{equation}\n",
    "\\mu = \\frac{1}{m}\\sum_{i=1}^m x^{(i)}\n",
    "\\end{equation}\n",
    "과 표준편차 $\\sigma$ \n",
    "\n",
    "\\begin{align*}\n",
    "\\sigma^2_j &= \\frac{1}{m}\\sum_{i=1}^m ( x^{(i)}_j-\\mu_j )^2\n",
    "\\end{align*}\n",
    "\n",
    "을 구하세요."
   ]
  },
  {
   "cell_type": "code",
   "execution_count": 17,
   "metadata": {},
   "outputs": [],
   "source": [
    "# 답 작성\n",
    "mu = np.mean(Xexam,axis=0)\n",
    "sigma = np.std(Xexam,axis=0)"
   ]
  },
  {
   "cell_type": "code",
   "execution_count": 18,
   "metadata": {},
   "outputs": [
    {
     "name": "stdout",
     "output_type": "stream",
     "text": [
      "mu= [65.64427406 66.22199809]\n",
      "sigma= [19.36068671 18.48963567]\n"
     ]
    }
   ],
   "source": [
    "print('mu=', mu)\n",
    "print('sigma=', sigma)"
   ]
  },
  {
   "cell_type": "markdown",
   "metadata": {},
   "source": [
    "### Problem 5\n",
    "\n",
    "data를 normalize하여 normalize된 dataset을 return하는 함수 \n",
    "`normalize_data`를 완성하세요.\n",
    "\n",
    "- input: `X` dataset\n",
    "- output: `mu`, `std`, `Xnorm`\n",
    "    - `mu`는 `X`의 feature별 평균 벡터\n",
    "    - `std`는 `X`의 feature별 표준편차 벡터\n",
    "    - `Xnorm`는 normalized dataset"
   ]
  },
  {
   "cell_type": "code",
   "execution_count": 19,
   "metadata": {},
   "outputs": [],
   "source": [
    "def nomalize_data(X):\n",
    "    mu = np.mean(X, axis=0)\n",
    "    std = np.std(X, axis=0)\n",
    "    Xnorm = (X - mu) / std\n",
    "    return mu, std, Xnorm\n",
    "    "
   ]
  },
  {
   "cell_type": "code",
   "execution_count": 20,
   "metadata": {},
   "outputs": [],
   "source": [
    "mu, std, Xnorm = nomalize_data(Xexam)"
   ]
  },
  {
   "cell_type": "code",
   "execution_count": 21,
   "metadata": {},
   "outputs": [
    {
     "name": "stdout",
     "output_type": "stream",
     "text": [
      "Xbar mean =  [-8.10462808e-17  1.14797061e-15]\n",
      "Xbar std =  [1. 1.]\n"
     ]
    }
   ],
   "source": [
    "print('Xbar mean = ', np.mean(Xnorm, axis=0))\n",
    "print('Xbar std = ', np.std(Xnorm, axis=0))"
   ]
  },
  {
   "cell_type": "markdown",
   "metadata": {},
   "source": [
    "### Problem 6\n",
    "Normalized data로 학습하기"
   ]
  },
  {
   "cell_type": "code",
   "execution_count": 22,
   "metadata": {},
   "outputs": [],
   "source": [
    "Xexam_tilde = np.hstack([np.ones((Xnorm.shape[0], 1)), Xnorm])"
   ]
  },
  {
   "cell_type": "code",
   "execution_count": 23,
   "metadata": {},
   "outputs": [
    {
     "data": {
      "text/plain": [
       "(100, 3)"
      ]
     },
     "execution_count": 23,
     "metadata": {},
     "output_type": "execute_result"
    }
   ],
   "source": [
    "Xexam_tilde.shape"
   ]
  },
  {
   "cell_type": "code",
   "execution_count": 24,
   "metadata": {},
   "outputs": [
    {
     "name": "stdout",
     "output_type": "stream",
     "text": [
      "--- starting epoch 0 ----\n",
      "accuracy =  0.49\n",
      "loss =  53.2527744623849\n",
      "--- starting epoch 1000 ----\n",
      "accuracy =  0.89\n",
      "loss =  17.68228103863506\n",
      "--- starting epoch 2000 ----\n",
      "accuracy =  0.9\n",
      "loss =  14.170171870057448\n",
      "--- starting epoch 3000 ----\n",
      "accuracy =  0.9\n",
      "loss =  12.755107212461832\n",
      "--- starting epoch 4000 ----\n",
      "accuracy =  0.9\n",
      "loss =  11.950528968986992\n",
      "--- starting epoch 5000 ----\n",
      "accuracy =  0.89\n",
      "loss =  11.421706293471471\n",
      "--- starting epoch 6000 ----\n",
      "accuracy =  0.89\n",
      "loss =  11.04512530624887\n",
      "--- starting epoch 7000 ----\n",
      "accuracy =  0.89\n",
      "loss =  10.762746453863164\n",
      "--- starting epoch 8000 ----\n",
      "accuracy =  0.89\n",
      "loss =  10.543132605026456\n",
      "--- starting epoch 9000 ----\n",
      "accuracy =  0.89\n",
      "loss =  10.36759290426234\n"
     ]
    }
   ],
   "source": [
    "num_epoch = 10000 # epoch 총 수\n",
    "lr = 0.01 # learning rate\n",
    "rp = 0.0\n",
    "# epoch 별 loss 저장하기 위한 array\n",
    "loss = np.zeros(num_epoch)\n",
    "accuracy = np.zeros(num_epoch)\n",
    "\n",
    "# 학습\n",
    "theta = np.random.randn(Xnorm.shape[1]+1, 1)\n",
    "\n",
    "skip = 1000\n",
    "for i in range(num_epoch):\n",
    "    H = model(Xexam_tilde,theta)\n",
    "    loss[i] = cost(H,yexam)\n",
    "    pred,accuracy[i] = decision(H,0.5,yexam)\n",
    "    gradient = grad(Xexam_tilde, H, yexam,theta,rp)\n",
    "    theta = theta - lr * gradient\n",
    "    \n",
    "    if i%skip == 0:\n",
    "        print(f'--- starting epoch {i} ----')\n",
    "        print('accuracy = ', accuracy[i])\n",
    "        print('loss = ', loss[i])"
   ]
  },
  {
   "cell_type": "code",
   "execution_count": 25,
   "metadata": {},
   "outputs": [
    {
     "data": {
      "text/plain": [
       "[<matplotlib.lines.Line2D at 0x27433081d30>]"
      ]
     },
     "execution_count": 25,
     "metadata": {},
     "output_type": "execute_result"
    },
    {
     "data": {
      "image/png": "[encoded data removed]",
      "text/plain": [
       "<Figure size 720x576 with 1 Axes>"
      ]
     },
     "metadata": {
      "needs_background": "light"
     },
     "output_type": "display_data"
    }
   ],
   "source": [
    "plt.plot(loss)"
   ]
  },
  {
   "cell_type": "code",
   "execution_count": 26,
   "metadata": {},
   "outputs": [
    {
     "data": {
      "text/plain": [
       "[<matplotlib.lines.Line2D at 0x2743470c880>]"
      ]
     },
     "execution_count": 26,
     "metadata": {},
     "output_type": "execute_result"
    },
    {
     "data": {
      "image/png": "[encoded data removed]",
      "text/plain": [
       "<Figure size 720x576 with 1 Axes>"
      ]
     },
     "metadata": {
      "needs_background": "light"
     },
     "output_type": "display_data"
    }
   ],
   "source": [
    "plt.plot(accuracy)"
   ]
  },
  {
   "cell_type": "markdown",
   "metadata": {},
   "source": [
    "# Part 2: Microchip factory\n",
    "\n",
    "본 과제에서는 반도체 생산 공장의 직원임을 가정합니다. 생산된 반도체를 2가지 test를 통해서 점수를 받았다고 가정합니다. 이경우 불량 (`label 0`)과 좋은 품질 (`label 1`)으로 예측하는 시스템을 만드는 것이 목표입니다.\n"
   ]
  },
  {
   "cell_type": "markdown",
   "metadata": {},
   "source": [
    "Dataset 구조"
   ]
  },
  {
   "cell_type": "code",
   "execution_count": 27,
   "metadata": {},
   "outputs": [
    {
     "data": {
      "text/html": [
       "<div>\n",
       "<style scoped>\n",
       "    .dataframe tbody tr th:only-of-type {\n",
       "        vertical-align: middle;\n",
       "    }\n",
       "\n",
       "    .dataframe tbody tr th {\n",
       "        vertical-align: top;\n",
       "    }\n",
       "\n",
       "    .dataframe thead th {\n",
       "        text-align: right;\n",
       "    }\n",
       "</style>\n",
       "<table border=\"1\" class=\"dataframe\">\n",
       "  <thead>\n",
       "    <tr style=\"text-align: right;\">\n",
       "      <th></th>\n",
       "      <th>microchip test1</th>\n",
       "      <th>microchip test2</th>\n",
       "      <th>quality</th>\n",
       "    </tr>\n",
       "  </thead>\n",
       "  <tbody>\n",
       "    <tr>\n",
       "      <th>0</th>\n",
       "      <td>-0.28283</td>\n",
       "      <td>0.47295</td>\n",
       "      <td>1.0</td>\n",
       "    </tr>\n",
       "    <tr>\n",
       "      <th>1</th>\n",
       "      <td>-0.60541</td>\n",
       "      <td>0.59722</td>\n",
       "      <td>1.0</td>\n",
       "    </tr>\n",
       "    <tr>\n",
       "      <th>2</th>\n",
       "      <td>0.64459</td>\n",
       "      <td>-0.14108</td>\n",
       "      <td>1.0</td>\n",
       "    </tr>\n",
       "    <tr>\n",
       "      <th>3</th>\n",
       "      <td>-0.23675</td>\n",
       "      <td>-0.63816</td>\n",
       "      <td>0.0</td>\n",
       "    </tr>\n",
       "    <tr>\n",
       "      <th>4</th>\n",
       "      <td>-0.43836</td>\n",
       "      <td>0.21711</td>\n",
       "      <td>1.0</td>\n",
       "    </tr>\n",
       "    <tr>\n",
       "      <th>...</th>\n",
       "      <td>...</td>\n",
       "      <td>...</td>\n",
       "      <td>...</td>\n",
       "    </tr>\n",
       "    <tr>\n",
       "      <th>113</th>\n",
       "      <td>-0.16187</td>\n",
       "      <td>0.80190</td>\n",
       "      <td>1.0</td>\n",
       "    </tr>\n",
       "    <tr>\n",
       "      <th>114</th>\n",
       "      <td>0.10311</td>\n",
       "      <td>0.77997</td>\n",
       "      <td>0.0</td>\n",
       "    </tr>\n",
       "    <tr>\n",
       "      <th>115</th>\n",
       "      <td>-0.42108</td>\n",
       "      <td>-0.27266</td>\n",
       "      <td>1.0</td>\n",
       "    </tr>\n",
       "    <tr>\n",
       "      <th>116</th>\n",
       "      <td>0.20104</td>\n",
       "      <td>-0.60161</td>\n",
       "      <td>1.0</td>\n",
       "    </tr>\n",
       "    <tr>\n",
       "      <th>117</th>\n",
       "      <td>-0.20795</td>\n",
       "      <td>0.17325</td>\n",
       "      <td>1.0</td>\n",
       "    </tr>\n",
       "  </tbody>\n",
       "</table>\n",
       "<p>118 rows × 3 columns</p>\n",
       "</div>"
      ],
      "text/plain": [
       "     microchip test1  microchip test2  quality\n",
       "0           -0.28283          0.47295      1.0\n",
       "1           -0.60541          0.59722      1.0\n",
       "2            0.64459         -0.14108      1.0\n",
       "3           -0.23675         -0.63816      0.0\n",
       "4           -0.43836          0.21711      1.0\n",
       "..               ...              ...      ...\n",
       "113         -0.16187          0.80190      1.0\n",
       "114          0.10311          0.77997      0.0\n",
       "115         -0.42108         -0.27266      1.0\n",
       "116          0.20104         -0.60161      1.0\n",
       "117         -0.20795          0.17325      1.0\n",
       "\n",
       "[118 rows x 3 columns]"
      ]
     },
     "execution_count": 27,
     "metadata": {},
     "output_type": "execute_result"
    }
   ],
   "source": [
    "df = pd.read_csv('microchip_dataset.csv')\n",
    "df"
   ]
  },
  {
   "cell_type": "code",
   "execution_count": 28,
   "metadata": {},
   "outputs": [],
   "source": [
    "Xmicro = df[['microchip test1', 'microchip test2']].to_numpy()\n",
    "ymicro = df['quality'].to_numpy().reshape(-1,1)"
   ]
  },
  {
   "cell_type": "code",
   "execution_count": 29,
   "metadata": {},
   "outputs": [
    {
     "data": {
      "text/plain": [
       "Text(0, 0.5, 'Microchip Test 2')"
      ]
     },
     "execution_count": 29,
     "metadata": {},
     "output_type": "execute_result"
    },
    {
     "data": {
      "image/png": "[encoded data removed]",
      "text/plain": [
       "<Figure size 360x360 with 1 Axes>"
      ]
     },
     "metadata": {
      "needs_background": "light"
     },
     "output_type": "display_data"
    }
   ],
   "source": [
    "plt.rcParams[\"figure.figsize\"] = (5,5)\n",
    "colormap = np.array(['tab:blue', 'tab:red'])\n",
    "plt.scatter(Xmicro[:,0], Xmicro[:,1], c=colormap[ymicro.astype(int)].reshape(-1))\n",
    "plt.xlabel('Microchip Test 1')\n",
    "plt.ylabel('Microchip Test 2')"
   ]
  },
  {
   "cell_type": "markdown",
   "metadata": {},
   "source": [
    "## 2-1 Feature Mapping\n",
    "\n",
    "이번 학습에서는 위의 data 모양을 봤을때, 선형 분류가 불가능하다는 것을 확인하실 수 있습니다.\n",
    "\n",
    "이번에는 feature mapping을 통해서 2개 feature를 다음 방식으로 늘리도록 하겠습니다.\n",
    "\n",
    "\\begin{align*}\n",
    "h_\\theta(x) = g(\\phi(x)^T\\theta)\n",
    "\\end{align*}\n",
    "\n",
    "\\begin{align*}\n",
    "\\phi(x) = \\begin{bmatrix}\n",
    "1\\\\\n",
    "x_1\\\\\n",
    "x_2\\\\\n",
    "x_1^2\\\\\n",
    "x_1x_2\\\\\n",
    "x_2^2\\\\\n",
    "x_1^3\\\\\n",
    "\\vdots\\\\\n",
    "x_1x_2^5\\\\\n",
    "x_2^6\n",
    "\\end{bmatrix}\n",
    "\\end{align*}\n",
    "\n",
    "즉 2개 feature data를 6차함수로\n",
    "변경해주는 feature mapping 함수를 작성하세요.\n",
    "결과는 총 28개 feature로 나옵니다.\n",
    "\n",
    "\n",
    "- Vectorized implemantation of cost function\n",
    "\\begin{align*}\n",
    "H = \\phi(X)\\theta\n",
    "\\end{align*}\n",
    "\\begin{align*}\n",
    "\\phi(X)\\theta = \\begin{bmatrix}\n",
    "1 & x_1^{(1)} & x_2^{(1)}& (x_1^{(1)})^2 & \\cdots &  (x_2^{(1)})^6\\\\\n",
    "1 & x^{(2)} & x_2^{(2)}& (x_1^{(2)})^2 & \\cdots &  (x_2^{(2)})^6\\\\\n",
    "\\vdots & \\ddots & \\ddots & \\vdots \\\\\n",
    "1 & x^{(m)} & x_2^{(m)}& (x_1^{(m)})^2 & \\cdots &  (x_2^{(m)})^6\\\\\n",
    "\\end{bmatrix}\\begin{bmatrix}\n",
    "\\theta_0 \\\\\n",
    "\\theta_1 \\\\\n",
    "\\vdots \\\\\n",
    "\\theta_{27} \\\\\n",
    "\\end{bmatrix}=\n",
    "\\begin{bmatrix}\n",
    "\\phi(x^{(1)})^T \\theta \\\\\n",
    "\\phi(x^{(2)})^T \\theta \\\\\n",
    "\\vdots \\\\\n",
    "\\phi(x^{(m)})^T \\theta \\\\\n",
    "\\end{bmatrix}\n",
    "\\end{align*}\n",
    "- Cost function\n",
    "\\begin{align*}\n",
    "J(\\theta)  &=\\frac{1}{m}\\sum_{i=1}^m (\\phi(x^{(i)})^T\\theta - y^{(i)})^2\\\\\n",
    "&= \\frac{1}{m}(\\phi(X)\\theta - y)^T(\\phi(X)\\theta - y)\n",
    "\\end{align*}\n",
    "- Gradient\n",
    "\\begin{align*}\n",
    "\\nabla_\\theta J(\\theta) = \\phi(X)^T(\\phi(X)\\theta-y)\n",
    "\\end{align*}\n"
   ]
  },
  {
   "cell_type": "code",
   "execution_count": 30,
   "metadata": {},
   "outputs": [],
   "source": [
    "def mapFeature(X, degree):\n",
    "    output = []\n",
    "    for i in range(degree+1):\n",
    "        for j in range(int(i)+1):\n",
    "            output.append((X[:,0]**(i-j))*(X[:,1]**(j)))\n",
    "            \n",
    "    return np.array(output).T"
   ]
  },
  {
   "cell_type": "markdown",
   "metadata": {},
   "source": [
    "### Problem 7\n",
    "위 `mapFeature` 함수가 왜 필요한지, 무엇을 수행하는 것인지 설명하고, 코드를 분석하세요"
   ]
  },
  {
   "cell_type": "markdown",
   "metadata": {},
   "source": [
    "답 작성)\n",
    "- Polynomial Regresssion을 수행하기 위해, feature를 n차 함수로 늘려주게 된다. 그렇게 되면, feature의 자유도를 높일 수 있게 된다.\n",
    "- 왜냐하면, 위에서 본 \n",
    "- 각 차수에서 x1^(i-1)*x2^j와 같은 연산을 수행하여, 항을 추가하는 함수이다.\n",
    "- 그 결과, 아래 예시대로, 2개의 feature data는 6차 함수로 변환하게 된다."
   ]
  },
  {
   "cell_type": "code",
   "execution_count": 31,
   "metadata": {},
   "outputs": [],
   "source": [
    "degree = 6\n",
    "Xmicro_mf = mapFeature(Xmicro, degree)"
   ]
  },
  {
   "cell_type": "markdown",
   "metadata": {},
   "source": [
    "\n",
    "### Problem 8\n",
    "\n",
    "학습을 진행하여 최적 `theta`를 찾으세요"
   ]
  },
  {
   "cell_type": "code",
   "execution_count": 32,
   "metadata": {},
   "outputs": [
    {
     "name": "stdout",
     "output_type": "stream",
     "text": [
      "--- starting epoch 0 ----\n",
      "accuracy =  0.5169491525423728\n",
      "loss =  57.73905613135054\n",
      "--- starting epoch 10000 ----\n",
      "accuracy =  0.711864406779661\n",
      "loss =  40.5960849906908\n",
      "--- starting epoch 20000 ----\n",
      "accuracy =  0.711864406779661\n",
      "loss =  40.5960849906908\n",
      "--- starting epoch 30000 ----\n",
      "accuracy =  0.711864406779661\n",
      "loss =  40.5960849906908\n",
      "--- starting epoch 40000 ----\n",
      "accuracy =  0.711864406779661\n",
      "loss =  40.5960849906908\n",
      "--- starting epoch 50000 ----\n",
      "accuracy =  0.711864406779661\n",
      "loss =  40.5960849906908\n",
      "--- starting epoch 60000 ----\n",
      "accuracy =  0.711864406779661\n",
      "loss =  40.5960849906908\n",
      "--- starting epoch 70000 ----\n",
      "accuracy =  0.711864406779661\n",
      "loss =  40.5960849906908\n",
      "--- starting epoch 80000 ----\n",
      "accuracy =  0.711864406779661\n",
      "loss =  40.5960849906908\n",
      "--- starting epoch 90000 ----\n",
      "accuracy =  0.711864406779661\n",
      "loss =  40.5960849906908\n"
     ]
    }
   ],
   "source": [
    "num_epoch = 100000 # epoch 총 수\n",
    "lr = 1.0 # learning rate\n",
    "rp = 10.0\n",
    "# epoch 별 loss 저장하기 위한 array\n",
    "loss = np.zeros(num_epoch)\n",
    "accuracy = np.zeros(num_epoch)\n",
    "\n",
    "#학습\n",
    "theta = np.random.randn(Xmicro_mf.shape[1], 1)\n",
    "\n",
    "skip = 10000\n",
    "for i in range(num_epoch):\n",
    "    H = model(Xmicro_mf,theta)\n",
    "    loss[i] = cost(H,ymicro)\n",
    "    pred,accuracy[i] = decision(H,0.5,ymicro)\n",
    "    gradient = grad(Xmicro_mf, H, ymicro, theta, rp)\n",
    "    theta = theta - lr * gradient\n",
    "    \n",
    "    if i%skip == 0:\n",
    "        print(f'--- starting epoch {i} ----')\n",
    "        print('accuracy = ', accuracy[i])\n",
    "        print('loss = ', loss[i])"
   ]
  },
  {
   "cell_type": "code",
   "execution_count": 33,
   "metadata": {},
   "outputs": [
    {
     "data": {
      "text/plain": [
       "[<matplotlib.lines.Line2D at 0x274333d7190>]"
      ]
     },
     "execution_count": 33,
     "metadata": {},
     "output_type": "execute_result"
    },
    {
     "data": {
      "image/png": "[encoded data removed]",
      "text/plain": [
       "<Figure size 360x360 with 1 Axes>"
      ]
     },
     "metadata": {
      "needs_background": "light"
     },
     "output_type": "display_data"
    }
   ],
   "source": [
    "plt.plot(loss)"
   ]
  },
  {
   "cell_type": "code",
   "execution_count": 34,
   "metadata": {},
   "outputs": [
    {
     "data": {
      "text/plain": [
       "[<matplotlib.lines.Line2D at 0x274347206a0>]"
      ]
     },
     "execution_count": 34,
     "metadata": {},
     "output_type": "execute_result"
    },
    {
     "data": {
      "image/png": "[encoded data removed]",
      "text/plain": [
       "<Figure size 360x360 with 1 Axes>"
      ]
     },
     "metadata": {
      "needs_background": "light"
     },
     "output_type": "display_data"
    }
   ],
   "source": [
    "plt.plot(accuracy)"
   ]
  },
  {
   "cell_type": "code",
   "execution_count": 35,
   "metadata": {},
   "outputs": [
    {
     "data": {
      "image/png": "[encoded data removed]",
      "text/plain": [
       "<Figure size 360x360 with 1 Axes>"
      ]
     },
     "metadata": {
      "needs_background": "light"
     },
     "output_type": "display_data"
    }
   ],
   "source": [
    "import helper\n",
    "helper.plot_micro(Xmicro_mf, ymicro, theta, degree)"
   ]
  },
  {
   "cell_type": "markdown",
   "metadata": {},
   "source": [
    "Regularization parameter `rp`를 변경하면서 decision boundary가 어떻게 변하는지 관찰하세요.\n",
    "\n",
    "## Problem 5\n",
    "\n",
    "- 다음을 적용해보고, 이중에서 underfitting, overfitting이 일어나 보이는 경우는 어떤 경우인지 판별하세요\n",
    "\n",
    "- `num_epoch = 100000`\n",
    "\n",
    "1. `rp=0`, `lr=10`\n",
    "2. `rp=1`, `lr=5`\n",
    "3. `rp=10`, `lr=1`\n",
    "4. `rp=100`, `lr=0.1`"
   ]
  },
  {
   "cell_type": "markdown",
   "metadata": {},
   "source": [
    "답 작성)\n",
    "- 1번: Overfitting\n",
    "- 2번: Underfitting / 원래 판별해야 할 구역과 떨어져 있음\n",
    "- 3번: Underfitting / 원래 판별해야 할 구역과 떨어져 있음\n",
    "- 4번: Underfitting / 한정된 경우만 판별하고 있음\n",
    "- 2,3,4번은 loss값이 변하지 않는 것으로 보아, 훈련이 되지 않고 있음을 판단할 수 있다. 따라서, lr를 높이거나, rp를 내려야 한다"
   ]
  },
  {
   "cell_type": "code",
   "execution_count": null,
   "metadata": {},
   "outputs": [],
   "source": []
  }
 ],
 "metadata": {
  "kernelspec": {
   "display_name": "Python 3",
   "language": "python",
   "name": "python3"
  },
  "language_info": {
   "codemirror_mode": {
    "name": "ipython",
    "version": 3
   },
   "file_extension": ".py",
   "mimetype": "text/x-python",
   "name": "python",
   "nbconvert_exporter": "python",
   "pygments_lexer": "ipython3",
   "version": "3.8.5"
  }
 },
 "nbformat": 4,
 "nbformat_minor": 4
}
