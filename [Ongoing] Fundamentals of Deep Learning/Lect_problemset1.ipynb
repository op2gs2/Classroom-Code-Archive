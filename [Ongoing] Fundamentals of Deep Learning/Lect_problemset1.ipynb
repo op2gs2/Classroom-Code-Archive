{
 "cells": [
  {
   "cell_type": "markdown",
   "source": [
    "- 유용한 사이트: [Scipy-Lectures](https://scipy-lectures.org/)"
   ],
   "metadata": {
    "collapsed": false,
    "pycharm": {
     "name": "#%% md\n"
    }
   }
  },
  {
   "cell_type": "code",
   "execution_count": 2,
   "outputs": [],
   "source": [
    "from builtins import print\n",
    "\n",
    "import numpy as np"
   ],
   "metadata": {
    "collapsed": false,
    "pycharm": {
     "name": "#%%\n"
    }
   }
  },
  {
   "cell_type": "code",
   "execution_count": 13,
   "outputs": [
    {
     "name": "stdout",
     "output_type": "stream",
     "text": [
      "(1, 4)\n",
      "[[1 2 3 4]]\n"
     ]
    }
   ],
   "source": [
    "a = np.array([[1,2,3,4]])\n",
    "print(a.shape)\n",
    "print(a)"
   ],
   "metadata": {
    "collapsed": false,
    "pycharm": {
     "name": "#%%\n"
    }
   }
  },
  {
   "cell_type": "markdown",
   "source": [
    "- List와 Indexing"
   ],
   "metadata": {
    "collapsed": false,
    "pycharm": {
     "name": "#%% md\n"
    }
   }
  },
  {
   "cell_type": "code",
   "execution_count": 14,
   "outputs": [],
   "source": [
    "A = [ 1, 'b', 'c'] # 인덱싱은 0번부터 시작\n",
    "type(A)\n",
    "type(A[2]) # *그 함수/리스트가 반환하는 값이나 Type을 파악하는 것이 중요하다.*"
   ],
   "metadata": {
    "collapsed": false,
    "pycharm": {
     "name": "#%%\n"
    }
   }
  },
  {
   "cell_type": "code",
   "execution_count": 20,
   "outputs": [
    {
     "data": {
      "text/plain": "4"
     },
     "execution_count": 20,
     "metadata": {},
     "output_type": "execute_result"
    }
   ],
   "source": [
    "B = [1,2,3,4,5,6]\n",
    "B[1:3] # index 1번째 이상부터 3번째 미만까지 (Slicing)\n",
    "B[2:5][1] # B[2:5]의 반환형이 List이므로, 예제와 같은 구문이 가능하다."
   ],
   "metadata": {
    "collapsed": false,
    "pycharm": {
     "name": "#%%\n"
    }
   }
  },
  {
   "cell_type": "markdown",
   "source": [
    "- List in List"
   ],
   "metadata": {
    "collapsed": false,
    "pycharm": {
     "name": "#%% md\n"
    }
   }
  },
  {
   "cell_type": "code",
   "execution_count": 25,
   "outputs": [
    {
     "data": {
      "text/plain": "[1, 3]"
     },
     "execution_count": 25,
     "metadata": {},
     "output_type": "execute_result"
    }
   ],
   "source": [
    "C = [1,2,'c',[1,3,4]]\n",
    "C\n",
    "C[3][0:-1] # 리스트의 원소로, 리스트가 위치할 수 있다."
   ],
   "metadata": {
    "collapsed": false,
    "pycharm": {
     "name": "#%%\n"
    }
   }
  },
  {
   "cell_type": "code",
   "execution_count": 27,
   "outputs": [
    {
     "data": {
      "text/plain": "5"
     },
     "execution_count": 27,
     "metadata": {},
     "output_type": "execute_result"
    }
   ],
   "source": [
    "D = [[1,2,3,4],[3,[12,4,5,65], 'c',10],'a']\n",
    "D[1][1][2] # 리스트 안에 리스트 안에 ... 리스트가 들어갈 수 있고, 각 리스트가 상위 리스트의 하나의 원소가 된다."
   ],
   "metadata": {
    "collapsed": false,
    "pycharm": {
     "name": "#%%\n"
    }
   }
  },
  {
   "cell_type": "markdown",
   "source": [
    "### Vector와 표기 단위 차이\n",
    "- 수학에서 벡터의 기본 표기 단위: 열(Col) 벡터\n",
    "- 코딩에서 벡터의 기본 표기 단위: 행(Row) 벡터"
   ],
   "metadata": {
    "collapsed": false,
    "pycharm": {
     "name": "#%% md\n"
    }
   }
  },
  {
   "cell_type": "markdown",
   "source": [
    "### Python에서 Matrix 생성하기\n",
    "- \\* 수식을 보고 코드로 옮길 수 있어야 한다 \\* -> 수식을 해독할 수 있어야 한다.\n",
    "- Python과 Numpy에서, 모든 행렬은 Array로 취급한다."
   ],
   "metadata": {
    "collapsed": false,
    "pycharm": {
     "name": "#%% md\n"
    }
   }
  },
  {
   "cell_type": "code",
   "execution_count": 5,
   "outputs": [
    {
     "name": "stdout",
     "output_type": "stream",
     "text": [
      "[[1 2 3]\n",
      " [4 5 6]]\n",
      "5\n"
     ]
    }
   ],
   "source": [
    "a = np.array([[1,2,3],[4,5,6]])\n",
    "print(a)\n",
    "print(a[1][1])"
   ],
   "metadata": {
    "collapsed": false,
    "pycharm": {
     "name": "#%%\n"
    }
   }
  },
  {
   "cell_type": "code",
   "execution_count": 12,
   "outputs": [
    {
     "name": "stdout",
     "output_type": "stream",
     "text": [
      "1\n",
      "2\n"
     ]
    }
   ],
   "source": [
    "a = np.array([1,2,3])\n",
    "print(a.ndim) # 원소를 감싸고 있는 계층의 갯수가 최대 몇개인가? -> Numpy 배열의  차원의 수를 결정함.\n",
    "\n",
    "b = np.array([[1,2,3]])\n",
    "print(b.ndim)"
   ],
   "metadata": {
    "collapsed": false,
    "pycharm": {
     "name": "#%%\n"
    }
   }
  },
  {
   "cell_type": "code",
   "execution_count": 14,
   "outputs": [
    {
     "name": "stdout",
     "output_type": "stream",
     "text": [
      "int32\n",
      "<class 'numpy.ndarray'>\n"
     ]
    }
   ],
   "source": [
    "# Numpy에서 Type 확인하기\n",
    "print(b.dtype)\n",
    "\n",
    "# Python에서 Type 확인하기\n",
    "print(type(b))"
   ],
   "metadata": {
    "collapsed": false,
    "pycharm": {
     "name": "#%%\n"
    }
   }
  },
  {
   "cell_type": "markdown",
   "source": [
    "### Python에서의 Vector\n",
    "- 1-D Vector\n",
    "    - Row Vector만 표현가능\n",
    "- 2-D Vector\n",
    "    - Row, Column Vector 표현가능"
   ],
   "metadata": {
    "collapsed": false,
    "pycharm": {
     "name": "#%% md\n"
    }
   }
  },
  {
   "cell_type": "code",
   "execution_count": 17,
   "outputs": [
    {
     "name": "stdout",
     "output_type": "stream",
     "text": [
      "[5 6 7]\n",
      "[[5 6 7]]\n",
      "[[5]\n",
      " [6]]\n"
     ]
    }
   ],
   "source": [
    "r1 = np.array([5,6,7]) # 행(row)벡터를 생성함\n",
    "print(r1)\n",
    "r2 = np.array([[5,6,7]]) # 행렬의 개념으로 생성한 행(row)벡터\n",
    "print(r2)\n",
    "c1 = np.array([[5],[6]]) # 열(col)벡터 생성\n",
    "print(c1)"
   ],
   "metadata": {
    "collapsed": false,
    "pycharm": {
     "name": "#%%\n"
    }
   }
  },
  {
   "cell_type": "code",
   "execution_count": 6,
   "outputs": [
    {
     "name": "stdout",
     "output_type": "stream",
     "text": [
      "(2, 3)\n",
      "(3, 2)\n",
      "(1, 3)\n"
     ]
    }
   ],
   "source": [
    "# shape: Numpy에서 차원을 확인하기\n",
    "x = np.array([[1,2,3],[4,5,6]])\n",
    "print(x.shape)\n",
    "y = np.array([[1,2],[3,4],[5,6]])\n",
    "print(y.shape)\n",
    "z = np.array([[1,2,3]])\n",
    "print(z.shape)"
   ],
   "metadata": {
    "collapsed": false,
    "pycharm": {
     "name": "#%%\n"
    }
   }
  },
  {
   "cell_type": "code",
   "execution_count": 13,
   "outputs": [
    {
     "name": "stdout",
     "output_type": "stream",
     "text": [
      "[[1 4]\n",
      " [2 5]\n",
      " [3 6]]\n",
      "[[1]\n",
      " [2]\n",
      " [3]]\n",
      "[4 5 6]\n",
      "[[1 4 2 5 3 6]]\n",
      "[[1 4 2 5 3 6]]\n",
      "[1 4 2 5 3 6]\n"
     ]
    }
   ],
   "source": [
    "# T: 행렬 전치하기\n",
    "x = np.array([[1,2,3],[4,5,6]])\n",
    "x = x.T\n",
    "print(x)\n",
    "\n",
    "# 전치 연산자는 1차원 배열은 변환하지 못함!\n",
    "a = np.array([[1,2,3]])\n",
    "print(a.T)\n",
    "a = np.array([4,5,6]) # 1차원 배열은 전치가 인되므로, 되도록 사용하지 말자\n",
    "print(a.T)\n",
    "\n",
    "# reshape(): 행렬의 모양을 바꿈\n",
    "print(x.reshape(1,6))\n",
    "print(x.reshape(1,-1)) # 2차원 배열을 반환\n",
    "print(x.reshape(-1)) # 1차원 배열를 반환"
   ],
   "metadata": {
    "collapsed": false,
    "pycharm": {
     "name": "#%%\n"
    }
   }
  },
  {
   "cell_type": "code",
   "execution_count": 23,
   "outputs": [
    {
     "name": "stdout",
     "output_type": "stream",
     "text": [
      "[[5 6 8]\n",
      " [6 7 5]]\n",
      "[[5 6 8]\n",
      " [6 7 5]]\n",
      "[5 6 8 6 7 5]\n"
     ]
    }
   ],
   "source": [
    "x1 = np.array([5,6,8])\n",
    "x2 = np.array([6,7,5])\n",
    "x = np.array([x1, x2])\n",
    "print(x)\n",
    "\n",
    "# 벡터를 모아서 행렬 만들기\n",
    "x = np.vstack([x1, x2]) # 수직으로 쌓기\n",
    "print(x)\n",
    "x = np.hstack([x1, x2]) # 수평으로 쌓기\n",
    "print(x)"
   ],
   "metadata": {
    "collapsed": false,
    "pycharm": {
     "name": "#%%\n"
    }
   }
  },
  {
   "cell_type": "code",
   "execution_count": 34,
   "outputs": [
    {
     "name": "stdout",
     "output_type": "stream",
     "text": [
      "[[1. 1. 1.]]\n",
      "[[0. 0. 0.]]\n",
      "[0.  1.5]\n",
      "0\n",
      "1\n",
      "2\n",
      "3\n",
      "4\n",
      "5\n",
      "6\n",
      "7\n",
      "8\n",
      "9\n",
      "[0. 4.]\n"
     ]
    }
   ],
   "source": [
    "# 행렬 생성 함수\n",
    "# ones(): 1로 채워진 행렬 생성\n",
    "ones = np.ones((1,3)) # 차원을 튜플로 받아, 1로 채워진 행렬 생성\n",
    "print(ones)\n",
    "\n",
    "# zeros(): 0으로 채워진 행렬 생성\n",
    "zeros = np.zeros((1,3))\n",
    "print(zeros)\n",
    "\n",
    "# arange(): range()처럼 구간 내 숫자가 채워진 행렬 생성\n",
    "arange = np.arange(0,3,1.5)\n",
    "print(arange)\n",
    "for i in np.arange(10): # Iterater 역할도 가능\n",
    "    print(i)\n",
    "\n",
    "# linspace(): (~이상, ~미만, 몇개 생성)으로 구간 내 동일한 간격의 숫자가 채워진 행렬 생성\n",
    "linspace = np.linspace(0,4,2)\n",
    "print(linspace)"
   ],
   "metadata": {
    "collapsed": false,
    "pycharm": {
     "name": "#%%\n"
    }
   }
  },
  {
   "cell_type": "code",
   "execution_count": 41,
   "outputs": [
    {
     "name": "stdout",
     "output_type": "stream",
     "text": [
      "[[0.6536887  0.2040218  0.25997377 0.59479989]\n",
      " [0.15787805 0.72196004 0.3340084  0.85675742]]\n",
      "[[1.62612957 0.44556257 0.86117501 1.25156249]\n",
      " [1.42618789 1.15244656 0.29408548 1.06708878]]\n",
      "[[-1.43980365 -0.73440772 -0.23074141 -1.72875069]\n",
      " [-1.04729578 -0.94660541 -1.51826292 -0.08148286]]\n",
      "[[-2.7640036   0.6265924  -0.20724569 -0.78435519]\n",
      " [ 0.59633155 -1.13130364 -0.24898891 -1.12618473]]\n",
      "[[-0.9073115  -1.00803394  4.91862338  0.91616572]\n",
      " [-0.00557399 -4.86810994  2.19484768  1.44661412]]\n",
      "[[-4.30284359 -3.98181861 -3.79507261 -3.41615434]\n",
      " [-4.33404411 -4.38117156 -3.4977794  -3.69913428]]\n"
     ]
    }
   ],
   "source": [
    "# 랜덤 변수 생성: np.random\n",
    "# rand(): 주어진 크기만큼 0~1사이 균일분포 랜덤값 채워진 행렬 출력\n",
    "rand = np.random.rand(2,4)\n",
    "print(rand)\n",
    "rand = 2*np.random.rand(2,4) # 0과 2사이 랜덤값을 저장\n",
    "print(rand)\n",
    "rand = -2*np.random.rand(2,4) # 0과 -2사이 랜덤값을 저장\n",
    "print(rand)\n",
    "\n",
    "# randn(): 주어진 크기만큼 0~1사이 정규분포(평균=0, 분산=1) 랜덤값 채워진 행렬 출력\n",
    "randn = np.random.randn(2,4)\n",
    "print(randn)\n",
    "randn = np.sqrt(10)*np.random.randn(2,4) # 0~1사이 정규분포(평균=0, 분산=10) 랜덤값 채워진 행렬 출력\n",
    "print(randn)\n",
    "randn = np.random.randn(2,4)-4 # 0~1사이 정규분포(평균=-4, 분산=1) 랜덤값 채워진 행렬 출력\n",
    "print(randn)"
   ],
   "metadata": {
    "collapsed": false,
    "pycharm": {
     "name": "#%%\n"
    }
   }
  },
  {
   "cell_type": "code",
   "execution_count": null,
   "outputs": [],
   "source": [],
   "metadata": {
    "collapsed": false,
    "pycharm": {
     "name": "#%%\n"
    }
   }
  }
 ],
 "metadata": {
  "kernelspec": {
   "display_name": "Python 3",
   "language": "python",
   "name": "python3"
  },
  "language_info": {
   "codemirror_mode": {
    "name": "ipython",
    "version": 2
   },
   "file_extension": ".py",
   "mimetype": "text/x-python",
   "name": "python",
   "nbconvert_exporter": "python",
   "pygments_lexer": "ipython2",
   "version": "2.7.6"
  }
 },
 "nbformat": 4,
 "nbformat_minor": 0
}